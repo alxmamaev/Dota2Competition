{
 "cells": [
  {
   "cell_type": "code",
   "execution_count": 1,
   "metadata": {},
   "outputs": [],
   "source": [
    "import pandas as pd\n",
    "from catboost import CatBoostClassifier\n",
    "\n",
    "from sklearn.metrics import roc_auc_score, accuracy_score\n",
    "from matplotlib import pyplot as plt\n",
    "\n",
    "%matplotlib inline"
   ]
  },
  {
   "cell_type": "code",
   "execution_count": 2,
   "metadata": {},
   "outputs": [],
   "source": [
    "model_name = \"cat_02\""
   ]
  },
  {
   "cell_type": "markdown",
   "metadata": {},
   "source": [
    "## Load data"
   ]
  },
  {
   "cell_type": "code",
   "execution_count": null,
   "metadata": {},
   "outputs": [],
   "source": [
    "train_data = pd.read_csv(\"processed_dataset/train.csv\", index_col=0)\n",
    "validate_data = pd.read_csv(\"processed_dataset/validation.csv\", index_col=0)\n",
    "test_data = pd.read_csv(\"processed_dataset/test.csv\", index_col=0)\n",
    "\n",
    "train_target = pd.read_csv(\"processed_dataset/target_train.csv\", index_col=0)\n",
    "validate_target = pd.read_csv(\"processed_dataset/target_validate.csv\", index_col=0)"
   ]
  },
  {
   "cell_type": "code",
   "execution_count": null,
   "metadata": {},
   "outputs": [],
   "source": [
    "validate_target = pd.read_csv(\"processed_dataset/target_validate.csv\", index_col=0)[\"radiant_win\"].astype(\"int\")"
   ]
  },
  {
   "cell_type": "code",
   "execution_count": null,
   "metadata": {},
   "outputs": [],
   "source": [
    "train_target = train_target[\"radiant_win\"].astype(\"int\")\n",
    "validate_target = validate_target[\"radiant_win\"].astype(\"int\")"
   ]
  },
  {
   "cell_type": "code",
   "execution_count": null,
   "metadata": {},
   "outputs": [],
   "source": [
    "train_data = train_data.drop([\"match_id_hash\", \"game_time\"], axis=1)\n",
    "validate_data = validate_data.drop([\"match_id_hash\", \"game_time\"], axis=1)\n",
    "test_data = test_data.drop([\"match_id_hash\", \"game_time\"], axis=1)"
   ]
  },
  {
   "cell_type": "code",
   "execution_count": null,
   "metadata": {},
   "outputs": [],
   "source": [
    "train_data.shape"
   ]
  },
  {
   "cell_type": "markdown",
   "metadata": {},
   "source": [
    "## Create model"
   ]
  },
  {
   "cell_type": "code",
   "execution_count": null,
   "metadata": {},
   "outputs": [],
   "source": [
    "clf = CatBoostClassifier(n_estimators=700,\n",
    "                         max_depth = 5)"
   ]
  },
  {
   "cell_type": "code",
   "execution_count": null,
   "metadata": {
    "scrolled": true
   },
   "outputs": [],
   "source": [
    "clf.fit(train_data, train_target, verbose=True)"
   ]
  },
  {
   "cell_type": "code",
   "execution_count": null,
   "metadata": {},
   "outputs": [],
   "source": [
    "validate_target.shape"
   ]
  },
  {
   "cell_type": "code",
   "execution_count": null,
   "metadata": {
    "scrolled": false
   },
   "outputs": [],
   "source": [
    "validate_predict = clf.predict_proba(validate_data)[:,1]\n",
    "test_predict = clf.predict_proba(test_data)[:,1]\n",
    "\n",
    "print(\"MODEL SCORING\")\n",
    "print(\"AUC:\", roc_auc_score(validate_target, validate_predict))\n",
    "print(\"ACC:\", accuracy_score(validate_target, validate_predict.round()))"
   ]
  },
  {
   "cell_type": "markdown",
   "metadata": {},
   "source": [
    "AUC: 0.8216585820565936\n",
    "ACC: 0.740679012345679"
   ]
  },
  {
   "cell_type": "code",
   "execution_count": null,
   "metadata": {},
   "outputs": [],
   "source": [
    "test_ids = pd.read_csv(\"processed_dataset/test.csv\", index_col=0)[\"match_id_hash\"]"
   ]
  },
  {
   "cell_type": "code",
   "execution_count": null,
   "metadata": {
    "scrolled": true
   },
   "outputs": [],
   "source": [
    "submit_data = {\n",
    "    \"match_id_hash\": test_ids,\n",
    "    \"radiant_win_prob\": test_predict\n",
    "}\n",
    "submit = pd.DataFrame(submit_data)\n",
    "submit.to_csv(\"test_predict/%s.csv\" % model_name, index=False)\n",
    "\n",
    "\n",
    "submit_data = {\n",
    "    \"radiant_win_prob\": validate_predict\n",
    "}\n",
    "\n",
    "submit = pd.DataFrame(submit_data)\n",
    "submit.to_csv(\"validate_predict/%s.csv\" % model_name, index=False)"
   ]
  },
  {
   "cell_type": "code",
   "execution_count": null,
   "metadata": {
    "scrolled": false
   },
   "outputs": [],
   "source": [
    "sorted(list(zip(clf.feature_importances_, train_data.columns)))[::-1]"
   ]
  },
  {
   "cell_type": "code",
   "execution_count": null,
   "metadata": {},
   "outputs": [],
   "source": []
  }
 ],
 "metadata": {
  "kernelspec": {
   "display_name": "Python 3",
   "language": "python",
   "name": "python3"
  },
  "language_info": {
   "codemirror_mode": {
    "name": "ipython",
    "version": 3
   },
   "file_extension": ".py",
   "mimetype": "text/x-python",
   "name": "python",
   "nbconvert_exporter": "python",
   "pygments_lexer": "ipython3",
   "version": "3.6.4"
  }
 },
 "nbformat": 4,
 "nbformat_minor": 2
}
